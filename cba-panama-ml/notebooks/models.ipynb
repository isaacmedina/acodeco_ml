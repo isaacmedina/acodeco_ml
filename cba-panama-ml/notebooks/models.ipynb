{
 "cells": [
  {
   "cell_type": "code",
   "execution_count": 1,
   "id": "883d63bd",
   "metadata": {},
   "outputs": [],
   "source": [
    "import pandas as pd\n",
    "import numpy as np\n",
    "from sklearn.model_selection import train_test_split\n",
    "from sklearn.linear_model import Ridge\n",
    "from sklearn.metrics import mean_absolute_error, mean_squared_error\n",
    "import matplotlib.pyplot as plt\n"
   ]
  },
  {
   "cell_type": "code",
   "execution_count": 3,
   "id": "9d140ffb",
   "metadata": {},
   "outputs": [],
   "source": [
    "df = pd.read_csv('../data/processed/datasers_merged_cleaned.csv') "
   ]
  },
  {
   "cell_type": "code",
   "execution_count": 4,
   "id": "2f9729e9",
   "metadata": {},
   "outputs": [
    {
     "data": {
      "text/html": [
       "<div>\n",
       "<style scoped>\n",
       "    .dataframe tbody tr th:only-of-type {\n",
       "        vertical-align: middle;\n",
       "    }\n",
       "\n",
       "    .dataframe tbody tr th {\n",
       "        vertical-align: top;\n",
       "    }\n",
       "\n",
       "    .dataframe thead th {\n",
       "        text-align: right;\n",
       "    }\n",
       "</style>\n",
       "<table border=\"1\" class=\"dataframe\">\n",
       "  <thead>\n",
       "    <tr style=\"text-align: right;\">\n",
       "      <th></th>\n",
       "      <th>producto</th>\n",
       "      <th>medida_cantidad</th>\n",
       "      <th>medida_unidad</th>\n",
       "      <th>supermercado</th>\n",
       "      <th>costo</th>\n",
       "      <th>anio</th>\n",
       "      <th>mes</th>\n",
       "      <th>cadena</th>\n",
       "      <th>supermercado_id</th>\n",
       "      <th>producto_id</th>\n",
       "      <th>cadena_id</th>\n",
       "    </tr>\n",
       "  </thead>\n",
       "  <tbody>\n",
       "    <tr>\n",
       "      <th>0</th>\n",
       "      <td>ACEITE VEGETAL NACIONAL</td>\n",
       "      <td>1.42</td>\n",
       "      <td>Litros</td>\n",
       "      <td>RIBA SMITH BELLA VISTA</td>\n",
       "      <td>3.85</td>\n",
       "      <td>2020</td>\n",
       "      <td>2</td>\n",
       "      <td>RIBA SMITH</td>\n",
       "      <td>74</td>\n",
       "      <td>0</td>\n",
       "      <td>5</td>\n",
       "    </tr>\n",
       "    <tr>\n",
       "      <th>1</th>\n",
       "      <td>ACEITE VEGETAL NACIONAL</td>\n",
       "      <td>1.42</td>\n",
       "      <td>Litros</td>\n",
       "      <td>RIBA SMITH TRANSISTMICA</td>\n",
       "      <td>3.15</td>\n",
       "      <td>2020</td>\n",
       "      <td>2</td>\n",
       "      <td>RIBA SMITH</td>\n",
       "      <td>75</td>\n",
       "      <td>0</td>\n",
       "      <td>5</td>\n",
       "    </tr>\n",
       "    <tr>\n",
       "      <th>2</th>\n",
       "      <td>ACEITE VEGETAL NACIONAL</td>\n",
       "      <td>1.42</td>\n",
       "      <td>Litros</td>\n",
       "      <td>SUPER 99 CAMINO REAL</td>\n",
       "      <td>3.89</td>\n",
       "      <td>2020</td>\n",
       "      <td>2</td>\n",
       "      <td>SUPER 99</td>\n",
       "      <td>78</td>\n",
       "      <td>0</td>\n",
       "      <td>6</td>\n",
       "    </tr>\n",
       "    <tr>\n",
       "      <th>3</th>\n",
       "      <td>ACEITE VEGETAL NACIONAL</td>\n",
       "      <td>1.42</td>\n",
       "      <td>Litros</td>\n",
       "      <td>SUPER 99 EL DORADO</td>\n",
       "      <td>3.89</td>\n",
       "      <td>2020</td>\n",
       "      <td>2</td>\n",
       "      <td>SUPER 99</td>\n",
       "      <td>80</td>\n",
       "      <td>0</td>\n",
       "      <td>6</td>\n",
       "    </tr>\n",
       "    <tr>\n",
       "      <th>4</th>\n",
       "      <td>ACEITE VEGETAL NACIONAL</td>\n",
       "      <td>1.42</td>\n",
       "      <td>Litros</td>\n",
       "      <td>SUPER 99 TUMBA MUERTO</td>\n",
       "      <td>2.49</td>\n",
       "      <td>2020</td>\n",
       "      <td>2</td>\n",
       "      <td>SUPER 99</td>\n",
       "      <td>92</td>\n",
       "      <td>0</td>\n",
       "      <td>6</td>\n",
       "    </tr>\n",
       "  </tbody>\n",
       "</table>\n",
       "</div>"
      ],
      "text/plain": [
       "                  producto  medida_cantidad medida_unidad  \\\n",
       "0  ACEITE VEGETAL NACIONAL             1.42        Litros   \n",
       "1  ACEITE VEGETAL NACIONAL             1.42        Litros   \n",
       "2  ACEITE VEGETAL NACIONAL             1.42        Litros   \n",
       "3  ACEITE VEGETAL NACIONAL             1.42        Litros   \n",
       "4  ACEITE VEGETAL NACIONAL             1.42        Litros   \n",
       "\n",
       "              supermercado  costo  anio  mes      cadena  supermercado_id  \\\n",
       "0   RIBA SMITH BELLA VISTA   3.85  2020    2  RIBA SMITH               74   \n",
       "1  RIBA SMITH TRANSISTMICA   3.15  2020    2  RIBA SMITH               75   \n",
       "2     SUPER 99 CAMINO REAL   3.89  2020    2    SUPER 99               78   \n",
       "3       SUPER 99 EL DORADO   3.89  2020    2    SUPER 99               80   \n",
       "4    SUPER 99 TUMBA MUERTO   2.49  2020    2    SUPER 99               92   \n",
       "\n",
       "   producto_id  cadena_id  \n",
       "0            0          5  \n",
       "1            0          5  \n",
       "2            0          6  \n",
       "3            0          6  \n",
       "4            0          6  "
      ]
     },
     "execution_count": 4,
     "metadata": {},
     "output_type": "execute_result"
    }
   ],
   "source": [
    "df.head()"
   ]
  },
  {
   "cell_type": "markdown",
   "id": "cf632cdf",
   "metadata": {},
   "source": [
    "### Modelos de Regresión"
   ]
  },
  {
   "cell_type": "markdown",
   "id": "cd6c890e",
   "metadata": {},
   "source": [
    "#### Evaluar modelo de regresión Ridge"
   ]
  },
  {
   "cell_type": "code",
   "execution_count": 5,
   "id": "02ed1f36",
   "metadata": {},
   "outputs": [],
   "source": [
    "from sklearn.preprocessing import StandardScaler\n",
    "\n",
    "def entrenar_ridge(df=df):\n",
    "    # Seleccionar todas las columnas numéricas excepto 'costo'\n",
    "    # Usamos todas las columnas numéricas excepto 'costo', en este caso no ncesesitamos One-Hot Encoding\n",
    "    features = df.select_dtypes(include=[np.number]).drop(columns=['costo'])\n",
    "    X = features\n",
    "    y = df['costo']\n",
    "    \n",
    "    # Escalar las variables numéricas\n",
    "    scaler = StandardScaler()\n",
    "    X_scaled = scaler.fit_transform(X)\n",
    "    \n",
    "    # Split 80-20\n",
    "    X_train, X_test, y_train, y_test = train_test_split(X_scaled, y, test_size=0.2, random_state=42)\n",
    "    \n",
    "    \n",
    "    # Entrenar modelo Ridge con todos los datos de entrenamiento\n",
    "    model = Ridge()\n",
    "    model.fit(X_train, y_train)\n",
    "    y_pred = model.predict(X_test)\n",
    "    \n",
    "    # Métricas\n",
    "    mae = mean_absolute_error(y_test, y_pred)\n",
    "    rmse = np.sqrt(mean_squared_error(y_test, y_pred))  \n",
    "    wmape = np.sum(np.abs(y_test - y_pred)) / np.sum(np.abs(y_test))\n",
    "    \n",
    "    return {\n",
    "        'MAE': mae,\n",
    "        'RMSE': rmse,\n",
    "        'WMAPE': wmape\n",
    "    }"
   ]
  },
  {
   "cell_type": "code",
   "execution_count": null,
   "id": "9770e8dd",
   "metadata": {},
   "outputs": [],
   "source": [
    "metricas = []\n",
    "tmp_metr = entrenar_ridge(df=df)\n",
    "tmp_metr['Modelo'] = 'Ridge'\n",
    "metricas.append(tmp_metr)"
   ]
  },
  {
   "cell_type": "code",
   "execution_count": 11,
   "id": "df3ec0e9",
   "metadata": {},
   "outputs": [],
   "source": [
    "def entrenar_ridge_por_cadena(df, cadena_id):\n",
    "    # Filtrar el dataframe por cadena_id\n",
    "    df_filtrado = df[df['cadena_id'] == cadena_id]\n",
    "    \n",
    "    # Seleccionar todas las columnas numéricas excepto 'costo'\n",
    "    features = df_filtrado.select_dtypes(include=[np.number]).drop(columns=['costo'])\n",
    "    X = features\n",
    "    y = df_filtrado['costo']\n",
    "    \n",
    "    # Escalar las variables numéricas\n",
    "    scaler = StandardScaler()\n",
    "    X_scaled = scaler.fit_transform(X)\n",
    "    \n",
    "    # Split 80-20\n",
    "    X_train, X_test, y_train, y_test = train_test_split(X_scaled, y, test_size=0.2, random_state=42)\n",
    "    \n",
    "    # Entrenar modelo Ridge con los datos filtrados\n",
    "    model = Ridge()\n",
    "    model.fit(X_train, y_train)\n",
    "    y_pred = model.predict(X_test)\n",
    "    \n",
    "    # Métricas\n",
    "    mae = mean_absolute_error(y_test, y_pred)\n",
    "    rmse = np.sqrt(mean_squared_error(y_test, y_pred))  \n",
    "    wmape = np.sum(np.abs(y_test - y_pred)) / np.sum(np.abs(y_test))\n",
    "    \n",
    "    metricas = {\n",
    "        'MAE': mae,\n",
    "        'RMSE': rmse,\n",
    "        'WMAPE': wmape\n",
    "    }\n",
    "    \n",
    "    return model, metricas"
   ]
  },
  {
   "cell_type": "code",
   "execution_count": 14,
   "id": "3705a021",
   "metadata": {},
   "outputs": [
    {
     "data": {
      "text/html": [
       "<div>\n",
       "<style scoped>\n",
       "    .dataframe tbody tr th:only-of-type {\n",
       "        vertical-align: middle;\n",
       "    }\n",
       "\n",
       "    .dataframe tbody tr th {\n",
       "        vertical-align: top;\n",
       "    }\n",
       "\n",
       "    .dataframe thead th {\n",
       "        text-align: right;\n",
       "    }\n",
       "</style>\n",
       "<table border=\"1\" class=\"dataframe\">\n",
       "  <thead>\n",
       "    <tr style=\"text-align: right;\">\n",
       "      <th></th>\n",
       "      <th>cadena_id</th>\n",
       "      <th>cadena</th>\n",
       "      <th>metricas</th>\n",
       "    </tr>\n",
       "  </thead>\n",
       "  <tbody>\n",
       "    <tr>\n",
       "      <th>0</th>\n",
       "      <td>5</td>\n",
       "      <td>RIBA SMITH</td>\n",
       "      <td>{'MAE': 1.7010811032009994, 'RMSE': 2.23280775...</td>\n",
       "    </tr>\n",
       "    <tr>\n",
       "      <th>1</th>\n",
       "      <td>6</td>\n",
       "      <td>SUPER 99</td>\n",
       "      <td>{'MAE': 1.6073319258626861, 'RMSE': 2.22567421...</td>\n",
       "    </tr>\n",
       "    <tr>\n",
       "      <th>2</th>\n",
       "      <td>7</td>\n",
       "      <td>XTRA</td>\n",
       "      <td>{'MAE': 1.6038858150859383, 'RMSE': 2.21627623...</td>\n",
       "    </tr>\n",
       "    <tr>\n",
       "      <th>3</th>\n",
       "      <td>2</td>\n",
       "      <td>EL MACHETAZO</td>\n",
       "      <td>{'MAE': 1.6483511849917025, 'RMSE': 2.24307884...</td>\n",
       "    </tr>\n",
       "    <tr>\n",
       "      <th>4</th>\n",
       "      <td>4</td>\n",
       "      <td>REY</td>\n",
       "      <td>{'MAE': 1.6834558537779039, 'RMSE': 2.32556164...</td>\n",
       "    </tr>\n",
       "  </tbody>\n",
       "</table>\n",
       "</div>"
      ],
      "text/plain": [
       "   cadena_id        cadena                                           metricas\n",
       "0          5    RIBA SMITH  {'MAE': 1.7010811032009994, 'RMSE': 2.23280775...\n",
       "1          6      SUPER 99  {'MAE': 1.6073319258626861, 'RMSE': 2.22567421...\n",
       "2          7          XTRA  {'MAE': 1.6038858150859383, 'RMSE': 2.21627623...\n",
       "3          2  EL MACHETAZO  {'MAE': 1.6483511849917025, 'RMSE': 2.24307884...\n",
       "4          4           REY  {'MAE': 1.6834558537779039, 'RMSE': 2.32556164..."
      ]
     },
     "execution_count": 14,
     "metadata": {},
     "output_type": "execute_result"
    }
   ],
   "source": [
    "\n",
    "metricas_cadena = []\n",
    "modelos_cadena = {}\n",
    "for cadena_id in df['cadena_id'].unique():\n",
    "    model, metricas = entrenar_ridge_por_cadena(df, cadena_id)\n",
    "    cadena_nombre = df[df['cadena_id'] == cadena_id]['cadena'].iloc[0]\n",
    "    metricas_cadena.append((cadena_id, cadena_nombre, metricas))\n",
    "    modelos_cadena[cadena_id] = model\n",
    "\n",
    "# Almacenar todas las métricas en un DataFrame\n",
    "df_metricas = pd.DataFrame(metricas_cadena, columns=['cadena_id', 'cadena', 'metricas'])\n",
    "df_metricas.head()"
   ]
  },
  {
   "cell_type": "code",
   "execution_count": 15,
   "id": "c9b4a269",
   "metadata": {},
   "outputs": [],
   "source": [
    "def predecir_precio_por_cadena(datos_nuevos, modelos_cadena):\n",
    "    \"\"\"\n",
    "    Predice el precio usando el modelo Ridge entrenado por cadena para datos nuevos.\n",
    "    datos_nuevos: DataFrame con los mismos features que el entrenamiento, incluyendo 'cadena_id'.\n",
    "    modelos_cadena: dict con modelos Ridge por cadena_id.\n",
    "    Retorna: Serie con predicciones de precio.\n",
    "    \"\"\"\n",
    "    # Seleccionar columnas numéricas excepto 'costo'\n",
    "    features = datos_nuevos.select_dtypes(include=[np.number]).drop(columns=['costo'], errors='ignore')\n",
    "    predicciones = []\n",
    "    \n",
    "    for idx, row in datos_nuevos.iterrows():\n",
    "        cadena_id = row['cadena_id']\n",
    "        modelo = modelos_cadena.get(cadena_id)\n",
    "        if modelo is not None:\n",
    "            # Escalar usando media y std del propio dato (solo para ejemplo, idealmente usar scaler del entrenamiento)\n",
    "            X = row[features.columns].values.reshape(1, -1)\n",
    "            pred = modelo.predict(X)[0]\n",
    "        else:\n",
    "            pred = np.nan\n",
    "        predicciones.append(pred)\n",
    "    \n",
    "    return pd.Series(predicciones, index=datos_nuevos.index, name='precio_predicho')"
   ]
  },
  {
   "cell_type": "code",
   "execution_count": 16,
   "id": "f4a5cbaa",
   "metadata": {},
   "outputs": [
    {
     "name": "stdout",
     "output_type": "stream",
     "text": [
      "44027     40.091481\n",
      "1246      79.870637\n",
      "5716     127.757238\n",
      "20465   -243.207289\n",
      "30855    -32.522711\n",
      "Name: precio_predicho, dtype: float64\n"
     ]
    }
   ],
   "source": [
    "# Ejemplo de uso: llamar a la función predecir_precio_por_cadena con datos del DataFrame original\n",
    "# Seleccionamos algunas filas de ejemplo para predecir\n",
    "datos_nuevos = df.sample(5, random_state=42)\n",
    "predicciones = predecir_precio_por_cadena(datos_nuevos, modelos_cadena)\n",
    "print(predicciones)"
   ]
  },
  {
   "cell_type": "markdown",
   "id": "5db6a610",
   "metadata": {},
   "source": [
    "#### Modeo de regresión Random Forest"
   ]
  },
  {
   "cell_type": "code",
   "execution_count": null,
   "id": "9788a002",
   "metadata": {},
   "outputs": [],
   "source": [
    "from sklearn.ensemble import RandomForestRegressor\n",
    "\n",
    "def evaluar_random_forest(df=df):\n",
    "    # Usamos todas las columnas numéricas excepto 'costo', en este caso no ncesesitamos One-Hot Encoding\n",
    "    features = df.select_dtypes(include=[np.number]).drop(columns=['costo'])\n",
    "    X = features\n",
    "    y = df['costo']\n",
    "    \n",
    "    # Escalar las variables numéricas\n",
    "    scaler = StandardScaler()\n",
    "    X_scaled = scaler.fit_transform(X)\n",
    "    \n",
    "    # Split 80-20\n",
    "    X_train, X_test, y_train, y_test = train_test_split(X_scaled, y, test_size=0.2, random_state=42)\n",
    "    \n",
    "    # Modelo Random Forest\n",
    "    model = RandomForestRegressor(random_state=42)\n",
    "    model.fit(X_train, y_train)\n",
    "    y_pred = model.predict(X_test)\n",
    "    \n",
    "    # Métricas\n",
    "    mae = mean_absolute_error(y_test, y_pred)\n",
    "    rmse = np.sqrt(mean_squared_error(y_test, y_pred))  \n",
    "    wmape = np.sum(np.abs(y_test - y_pred)) / np.sum(np.abs(y_test))\n",
    "    \n",
    "    return {\n",
    "        'MAE': mae,\n",
    "        'RMSE': rmse,\n",
    "        'WMAPE': wmape\n",
    "    }"
   ]
  },
  {
   "cell_type": "code",
   "execution_count": null,
   "id": "06b22ee6",
   "metadata": {},
   "outputs": [],
   "source": [
    "tmp_metr = evaluar_random_forest(df=df)\n",
    "tmp_metr['Modelo'] = 'Random Forest'\n",
    "metricas.append(tmp_metr)"
   ]
  },
  {
   "cell_type": "markdown",
   "id": "31c87841",
   "metadata": {},
   "source": [
    "#### Modelo HistGradientBoostingRegressor."
   ]
  },
  {
   "cell_type": "code",
   "execution_count": null,
   "id": "41f12701",
   "metadata": {},
   "outputs": [],
   "source": [
    "from sklearn.ensemble import HistGradientBoostingRegressor\n",
    "\n",
    "def evaluar_hist_gradient_boosting(df=df):\n",
    "    # Usamos todas las columnas numéricas excepto 'costo'\n",
    "    features = df.select_dtypes(include=[np.number]).drop(columns=['costo'])\n",
    "    X = features\n",
    "    y = df['costo']\n",
    "    \n",
    "    # Escalar las variables numéricas\n",
    "    scaler = StandardScaler()\n",
    "    X_scaled = scaler.fit_transform(X)\n",
    "    \n",
    "    # Split 80-20\n",
    "    X_train, X_test, y_train, y_test = train_test_split(X_scaled, y, test_size=0.2, random_state=42)\n",
    "    \n",
    "    # Modelo HistGradientBoostingRegressor\n",
    "    model = HistGradientBoostingRegressor(random_state=42)\n",
    "    model.fit(X_train, y_train)\n",
    "    y_pred = model.predict(X_test)\n",
    "    \n",
    "    # Métricas\n",
    "    mae = mean_absolute_error(y_test, y_pred)\n",
    "    rmse = np.sqrt(mean_squared_error(y_test, y_pred))  \n",
    "    wmape = np.sum(np.abs(y_test - y_pred)) / np.sum(np.abs(y_test))\n",
    "    \n",
    "    return {\n",
    "        'MAE': mae,\n",
    "        'RMSE': rmse,\n",
    "        'WMAPE': wmape\n",
    "    }"
   ]
  },
  {
   "cell_type": "code",
   "execution_count": null,
   "id": "6d7fc4e2",
   "metadata": {},
   "outputs": [],
   "source": [
    "tmp_metr = evaluar_hist_gradient_boosting(df=df)\n",
    "tmp_metr['Modelo'] = 'HistGradient Boosting'\n",
    "metricas.append(tmp_metr)"
   ]
  },
  {
   "cell_type": "markdown",
   "id": "a73aec43",
   "metadata": {},
   "source": [
    "#### Tabla comparativa"
   ]
  },
  {
   "cell_type": "code",
   "execution_count": null,
   "id": "17099853",
   "metadata": {},
   "outputs": [
    {
     "data": {
      "text/html": [
       "<div>\n",
       "<style scoped>\n",
       "    .dataframe tbody tr th:only-of-type {\n",
       "        vertical-align: middle;\n",
       "    }\n",
       "\n",
       "    .dataframe tbody tr th {\n",
       "        vertical-align: top;\n",
       "    }\n",
       "\n",
       "    .dataframe thead th {\n",
       "        text-align: right;\n",
       "    }\n",
       "</style>\n",
       "<table border=\"1\" class=\"dataframe\">\n",
       "  <thead>\n",
       "    <tr style=\"text-align: right;\">\n",
       "      <th></th>\n",
       "      <th>MAE</th>\n",
       "      <th>RMSE</th>\n",
       "      <th>WMAPE</th>\n",
       "    </tr>\n",
       "    <tr>\n",
       "      <th>Modelo</th>\n",
       "      <th></th>\n",
       "      <th></th>\n",
       "      <th></th>\n",
       "    </tr>\n",
       "  </thead>\n",
       "  <tbody>\n",
       "    <tr>\n",
       "      <th>Ridge</th>\n",
       "      <td>1.499736</td>\n",
       "      <td>2.079326</td>\n",
       "      <td>0.634666</td>\n",
       "    </tr>\n",
       "    <tr>\n",
       "      <th>Random Forest</th>\n",
       "      <td>0.157176</td>\n",
       "      <td>0.345351</td>\n",
       "      <td>0.066515</td>\n",
       "    </tr>\n",
       "    <tr>\n",
       "      <th>HistGradient Boosting</th>\n",
       "      <td>0.219950</td>\n",
       "      <td>0.378114</td>\n",
       "      <td>0.093080</td>\n",
       "    </tr>\n",
       "  </tbody>\n",
       "</table>\n",
       "</div>"
      ],
      "text/plain": [
       "                            MAE      RMSE     WMAPE\n",
       "Modelo                                             \n",
       "Ridge                  1.499736  2.079326  0.634666\n",
       "Random Forest          0.157176  0.345351  0.066515\n",
       "HistGradient Boosting  0.219950  0.378114  0.093080"
      ]
     },
     "metadata": {},
     "output_type": "display_data"
    }
   ],
   "source": [
    "metricas_df = pd.DataFrame(metricas)\n",
    "metricas_df.set_index('Modelo', inplace=True)\n",
    "display(metricas_df)"
   ]
  },
  {
   "cell_type": "markdown",
   "id": "02574d23",
   "metadata": {},
   "source": [
    "Las métricas que usas se interpretan así:\n",
    "\n",
    "MAE (Mean Absolute Error):\n",
    "Es el promedio de los errores absolutos entre los valores reales y los predichos. Indica, en promedio, cuánto se equivoca el modelo.\n",
    "Más bajo es mejor.\n",
    "\n",
    "RMSE (Root Mean Squared Error):\n",
    "Es la raíz cuadrada del promedio de los errores al cuadrado. Penaliza más los errores grandes.\n",
    "Más bajo es mejor.\n",
    "\n",
    "WMAPE (Weighted Mean Absolute Percentage Error):\n",
    "Es el error absoluto medio dividido por la suma de los valores reales. Indica el error relativo respecto al total observado.\n",
    "Más bajo es mejor; útil para comparar entre diferentes escalas.\n",
    "\n",
    "En resumen: valores bajos en estas métricas indican mejor desempeño del modelo.\n",
    "\n",
    "----------------------------------------------------------------\n",
    "Como podemos observar el modelo Random Forest es el que mejor desempleño consigue con las metricas de errores más bajas.\n",
    "\n",
    "En el análisis de matriz de correlación observamos poca releacion entre las variables. Random forest funciona mejor cuando el problema tiene relaciones no lineales o variables categoricas con multipolles niveles (muy variada). "
   ]
  },
  {
   "cell_type": "markdown",
   "id": "1421564f",
   "metadata": {},
   "source": [
    "### Modelos de clasificaión. "
   ]
  },
  {
   "cell_type": "markdown",
   "id": "72d10ee0",
   "metadata": {},
   "source": [
    "Modelo baseline Naive bayes"
   ]
  },
  {
   "cell_type": "code",
   "execution_count": null,
   "id": "f0bc297b",
   "metadata": {},
   "outputs": [],
   "source": [
    "from sklearn.naive_bayes import GaussianNB\n",
    "from sklearn.metrics import roc_auc_score, average_precision_score\n",
    "from sklearn.calibration import calibration_curve\n",
    "\n",
    "def evaluar_naive_bayes(df):\n",
    "    # Usamos todas las columnas numéricas excepto 'costo'\n",
    "    num_cols = df.select_dtypes(include=[np.number]).columns.tolist()\n",
    "    \n",
    "    # Binarizar costo (clasificación)\n",
    "    # Utilizo la mediana como umbral para binarizar la variable objetivo\n",
    "    umbral = df[\"costo\"].median()\n",
    "    df[\"costo_bin\"] = (df[\"costo\"] > umbral).astype(int)\n",
    "    \n",
    "    X = df[num_cols].drop(columns=[\"costo\"])\n",
    "    y = df[\"costo_bin\"]\n",
    "    \n",
    "    \n",
    "    # Split 80-20\n",
    "    X_train, X_test, y_train, y_test = train_test_split(X, y, test_size=0.2, random_state=42, stratify=y)\n",
    "    \n",
    "    # Escalar las variables numéricas\n",
    "    scaler = StandardScaler()\n",
    "    X_train_scaled = scaler.fit_transform(X_train)\n",
    "    X_test_scaled = scaler.transform(X_test)\n",
    "    \n",
    "    # Modelo Naive Bayes\n",
    "    model = GaussianNB()\n",
    "    model.fit(X_train_scaled, y_train)\n",
    "    \n",
    "    y_proba = model.predict_proba(X_test_scaled)[:, 1]\n",
    "    \n",
    "    # Métricas\n",
    "    roc_auc = roc_auc_score(y_test, y_proba)\n",
    "    pr_auc = average_precision_score(y_test, y_proba)\n",
    "    \n",
    "    prob_true, prob_pred = calibration_curve(y_test, y_proba, n_bins=10)\n",
    "\n",
    "    plt.figure(figsize=(6,6))\n",
    "    plt.plot(prob_pred, prob_true, marker=\"o\", label=\"Naive Bayes\")\n",
    "    plt.plot([0,1],[0,1], linestyle=\"--\", color=\"gray\", label=\"Perfecto calibrado\")\n",
    "    plt.xlabel(\"Probabilidad media predicha\")\n",
    "    plt.ylabel(\"Proporción positiva real\")\n",
    "    plt.title(\"Curva de Calibración - Naive Bayes\")\n",
    "    plt.legend()\n",
    "    plt.show()\n",
    "    \n",
    "    return {\n",
    "        'Model': 'Naive Bayes',\n",
    "        'ROC AUC': roc_auc,\n",
    "        'PR AUC': pr_auc\n",
    "    }\n",
    "    "
   ]
  },
  {
   "cell_type": "code",
   "execution_count": null,
   "id": "3180cdd5",
   "metadata": {},
   "outputs": [
    {
     "data": {
      "image/png": "[encoded data removed]",
      "text/plain": [
       "<Figure size 600x600 with 1 Axes>"
      ]
     },
     "metadata": {},
     "output_type": "display_data"
    },
    {
     "data": {
      "text/plain": [
       "{'Model': 'Naive Bayes',\n",
       " 'ROC AUC': 0.7254617765870878,\n",
       " 'PR AUC': 0.6795978540983376}"
      ]
     },
     "execution_count": 40,
     "metadata": {},
     "output_type": "execute_result"
    }
   ],
   "source": [
    "evaluar_naive_bayes(df)"
   ]
  },
  {
   "cell_type": "markdown",
   "id": "289f89d3",
   "metadata": {},
   "source": [
    "En el entrenamiento del modelo se define un umbral (mediana del precio) para clasificar de forma binaria (precio alto o precio bajo) los datos.\n",
    "\n",
    "Este es un enfoque distinto ya que al principio se propuso utilizar el modelo de clasificacion para alertar por cambio de precio. Para este enfoque solo necesitamos comparar el precioo anterior para darnos cuanta de un cambio de precio y no requerimos de un modelo de clasificacion para este objetivo.\n",
    "\n",
    "Con respecto a las metricas de evaluación tenemos que ambas (ROC AUS y PR AUC) tienen valores superiores a 0.5 lo que nos indica un desempeño mejor que la aleatoriedad.\n"
   ]
  }
 ],
 "metadata": {
  "kernelspec": {
   "display_name": "Python 3",
   "language": "python",
   "name": "python3"
  },
  "language_info": {
   "codemirror_mode": {
    "name": "ipython",
    "version": 3
   },
   "file_extension": ".py",
   "mimetype": "text/x-python",
   "name": "python",
   "nbconvert_exporter": "python",
   "pygments_lexer": "ipython3",
   "version": "3.11.9"
  }
 },
 "nbformat": 4,
 "nbformat_minor": 5
}
